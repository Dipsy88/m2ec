{
 "cells": [
  {
   "cell_type": "code",
   "execution_count": 2,
   "metadata": {},
   "outputs": [
    {
     "name": "stderr",
     "output_type": "stream",
     "text": [
      "/Users/Dipesh/anaconda3/lib/python3.6/site-packages/h5py/__init__.py:36: FutureWarning: Conversion of the second argument of issubdtype from `float` to `np.floating` is deprecated. In future, it will be treated as `np.float64 == np.dtype(float).type`.\n",
      "  from ._conv import register_converters as _register_converters\n"
     ]
    }
   ],
   "source": [
    "import numpy as np\n",
    "import tensorflow as tf"
   ]
  },
  {
   "cell_type": "code",
   "execution_count": 3,
   "metadata": {},
   "outputs": [],
   "source": [
    "a = np.array([[-0.22107181, -0.5772951 , -0.30023116, -0.52736866, -1.3408656 ,\n",
    "        -1.1439862 ],\n",
    "       [ 0.31694144, -0.69038135, -0.17408036, -0.3771813 , -0.90554404,\n",
    "        -1.5088031 ],\n",
    "       [ 0.21197776, -0.77362037, -0.15663601, -0.62680197, -1.5435387 ,\n",
    "        -1.267734  ],\n",
    "       [ 1.2251738 , -0.6216275 ,  0.04582078, -0.50810474, -1.247595  ,\n",
    "        -1.4990112 ],\n",
    "       [ 0.00759255,  0.50469685, -0.34219044, -0.31656125, -0.03924999,\n",
    "         1.0092534 ],\n",
    "       [ 0.68196505,  0.60818154, -0.33724698, -0.17122598,  0.32299998,\n",
    "         1.9022774 ],\n",
    "       [ 1.1796496 , -0.28034374, -0.26785964, -0.29411322, -1.0564446 ,\n",
    "        -1.1389343 ],\n",
    "       [-0.21283536, -0.3381486 , -0.2901333 , -0.41132936, -1.14627   ,\n",
    "        -1.175473  ],\n",
    "       [-0.23296446, -0.32958215, -0.18085067, -0.1475806 , -0.9394722 ,\n",
    "        -1.021975  ],\n",
    "       [ 0.63087404, -0.29424825, -0.31161484, -0.26255196, -0.8498947 ,\n",
    "        -0.39435738],\n",
    "       [-1.3219986 , -0.7312596 , -0.3433243 , -0.06467836, -1.1687394 ,\n",
    "        -2.0246859 ],\n",
    "       [-0.1641971 , -0.8341602 , -0.3567065 , -0.07725999, -1.2412096 ,\n",
    "        -1.8306602 ],\n",
    "       [ 1.0568775 ,  0.22835204, -0.27652496, -0.36019406, -0.19727208,\n",
    "         0.91797954],\n",
    "       [ 1.679007  ,  0.3581289 , -0.1965287 , -0.2239817 , -0.02585995,\n",
    "         1.3215921 ],\n",
    "       [ 0.180087  ,  0.41329712, -0.40528038, -0.16983977, -0.6261729 ,\n",
    "         1.2639326 ],\n",
    "       [-0.826933  ,  0.5695932 , -0.33296227, -0.16191165, -0.81064343,\n",
    "         1.4314325 ],\n",
    "       [ 0.86110556,  0.15265837, -0.23417832, -0.21587339, -0.35895264,\n",
    "         0.43035054],\n",
    "       [ 0.60808986, -0.02031906, -0.41615725, -0.45987105, -0.5595085 ,\n",
    "         0.33936456]])"
   ]
  },
  {
   "cell_type": "code",
   "execution_count": 4,
   "metadata": {},
   "outputs": [],
   "source": [
    "embedding_var = tf.get_variable(name='embedding',\n",
    "                                 initializer=a)"
   ]
  },
  {
   "cell_type": "code",
   "execution_count": 6,
   "metadata": {},
   "outputs": [],
   "source": [
    "from tensorflow.contrib.tensorboard.plugins import projector\n",
    "\n",
    "with tf.Session() as session:\n",
    "    # Create summary writer.\n",
    "    writer = tf.summary.FileWriter('/Users/Dipesh/OneDrive/Research_Engineer/Papers/M2EC/code/RecommendationSystem/18DataCenters/tmp', session.graph)\n",
    "    # Initialize embedding_var\n",
    "    session.run(embedding_var.initializer)\n",
    "    # Create Projector config\n",
    "    config = projector.ProjectorConfig()\n",
    "    # Add embedding visualizer\n",
    "    embedding = config.embeddings.add()\n",
    "    # Attach the name 'embedding'\n",
    "    embedding.tensor_name = embedding_var.name\n",
    "    # Metafile which is described later\n",
    "    embedding.metadata_path = '/Users/Dipesh/OneDrive/Research_Engineer/Papers/M2EC/code/RecommendationSystem/18DataCenters/tmp/metadata.tsv'\n",
    "    # Add writer and config to Projector\n",
    "    projector.visualize_embeddings(writer, config)\n",
    "    # Save the model\n",
    "    saver_embed = tf.train.Saver([embedding_var])\n",
    "    saver_embed.save(session, '/Users/Dipesh/OneDrive/Research_Engineer/Papers/M2EC/code/RecommendationSystem/18DataCenters/tmp/embedding_test.ckpt', 1)\n",
    "\n",
    "writer.close()"
   ]
  },
  {
   "cell_type": "code",
   "execution_count": null,
   "metadata": {},
   "outputs": [],
   "source": []
  }
 ],
 "metadata": {
  "kernelspec": {
   "display_name": "Python 3",
   "language": "python",
   "name": "python3"
  },
  "language_info": {
   "codemirror_mode": {
    "name": "ipython",
    "version": 3
   },
   "file_extension": ".py",
   "mimetype": "text/x-python",
   "name": "python",
   "nbconvert_exporter": "python",
   "pygments_lexer": "ipython3",
   "version": "3.6.7"
  }
 },
 "nbformat": 4,
 "nbformat_minor": 2
}
