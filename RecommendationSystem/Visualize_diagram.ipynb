{
 "cells": [
  {
   "cell_type": "code",
   "execution_count": 2,
   "metadata": {},
   "outputs": [
    {
     "name": "stderr",
     "output_type": "stream",
     "text": [
      "/Users/Dipesh/anaconda3/lib/python3.6/site-packages/h5py/__init__.py:36: FutureWarning: Conversion of the second argument of issubdtype from `float` to `np.floating` is deprecated. In future, it will be treated as `np.float64 == np.dtype(float).type`.\n",
      "  from ._conv import register_converters as _register_converters\n"
     ]
    }
   ],
   "source": [
    "import numpy as np\n",
    "import tensorflow as tf"
   ]
  },
  {
   "cell_type": "code",
   "execution_count": 3,
   "metadata": {},
   "outputs": [],
   "source": [
    "a = np.array([[-2.918111  ,  0.7700846 , -1.0267539 , -0.4451885 , -0.21534048,\n",
    "        -0.64004344,  0.93250537, -1.4006436 ],\n",
    "       [-0.1476582 , -0.41345018, -0.50239676, -1.2330731 , -0.39082175,\n",
    "        -0.8551086 , -0.2848084 , -0.42968494],\n",
    "       [ 0.42128938, -2.377184  , -0.6504189 , -1.4092538 , -0.67709804,\n",
    "        -0.6655717 , -1.972765  , -0.57696134],\n",
    "       [-3.327949  ,  0.15270992, -1.8314408 , -1.02406   , -0.4006565 ,\n",
    "        -0.8831462 ,  0.23887405, -1.8585616 ],\n",
    "       [ 0.16659045, -0.44784445, -0.6848213 , -1.257686  , -0.5190715 ,\n",
    "        -0.8056637 , -0.20006447, -0.2758151 ],\n",
    "       [ 0.14910981, -2.3412678 , -1.2521117 , -1.3898255 , -0.6119462 ,\n",
    "        -0.6014848 , -1.9017382 , -0.6401987 ],\n",
    "       [-1.0736653 , -0.32411486,  1.7548801 , -0.86349714,  0.07445063,\n",
    "        -0.7969162 , -0.15183516,  0.98447615],\n",
    "       [-1.5118722 , -1.8200159 ,  2.0655758 , -0.7127766 ,  0.11025594,\n",
    "        -0.6582782 , -1.8557818 ,  1.1045442 ],\n",
    "       [-2.7662003 ,  0.507935  , -1.3060644 , -0.63844293, -0.2628791 ,\n",
    "        -0.6807341 ,  0.37656492, -1.4192349 ],\n",
    "       [ 0.2650684 , -0.09540744, -0.27417257, -1.1108764 , -0.43882936,\n",
    "        -0.7890652 ,  0.08517252, -0.43598285],\n",
    "       [ 0.35228157, -2.1304739 , -0.10445145, -1.2505091 , -0.6023737 ,\n",
    "        -0.44874465, -1.9695643 , -0.40471902],\n",
    "       [-2.7451673 ,  0.942954  , -1.3496978 , -0.75610346,  0.02546665,\n",
    "        -0.7238883 ,  0.9803721 , -1.7138398 ],\n",
    "       [ 1.1379315 ,  0.6850554 ,  0.51935184, -0.89581513, -0.17577413,\n",
    "        -0.6488375 ,  0.8029212 , -0.2130826 ],\n",
    "       [ 0.2796165 , -2.3153284 ,  0.488592  , -1.026791  , -0.5976661 ,\n",
    "        -0.48502818, -1.9815648 ,  0.38693395],\n",
    "       [-3.4792793 ,  0.23997572, -1.493885  , -0.930523  , -0.56914794,\n",
    "        -0.8930984 ,  0.18229827, -1.7568153 ],\n",
    "       [ 0.7007065 , -0.3111758 , -1.1710173 , -0.8159188 , -0.14591528,\n",
    "        -0.21639475, -0.22929887, -0.599152  ],\n",
    "       [ 1.3034468 , -1.5866697 , -1.2885925 , -1.1464003 , -0.48613083,\n",
    "        -0.11691704, -1.4138308 , -0.6022602 ],\n",
    "       [-2.4905179 , -0.04478614, -0.88357794,  0.06392509,  0.06068574,\n",
    "        -0.25859243,  0.5984416 , -1.0934967 ],\n",
    "       [-0.43855202, -0.11858746,  1.1980675 , -0.78097385,  0.40151152,\n",
    "        -0.7495187 , -0.02500037,  1.1104279 ],\n",
    "       [ 0.5912974 , -1.9534225 ,  1.9800959 , -0.88844   ,  0.5955367 ,\n",
    "        -0.71324635, -1.8082825 ,  1.5722411 ],\n",
    "       [-0.0102409 , -0.07097296,  0.60918045, -0.65239817, -0.08779161,\n",
    "        -0.55897087, -0.0055551 ,  0.3606368 ],\n",
    "       [ 0.01793881, -2.0699303 ,  0.74589646, -0.9252796 , -0.11711719,\n",
    "        -0.49766597, -1.9957994 ,  0.5119984 ],\n",
    "       [ 0.7310766 ,  0.8096386 ,  0.72324675, -0.4248343 ,  0.07043031,\n",
    "        -0.30540556,  1.1114982 ,  0.55401516],\n",
    "       [ 0.15489763, -1.8434403 ,  0.75653374, -0.9207038 , -0.0098405 ,\n",
    "        -0.53410363, -1.7753539 ,  0.40109548]])"
   ]
  },
  {
   "cell_type": "code",
   "execution_count": 4,
   "metadata": {},
   "outputs": [],
   "source": [
    "embedding_var = tf.get_variable(name='embeddingg',\n",
    "                                 initializer=a)"
   ]
  },
  {
   "cell_type": "code",
   "execution_count": 5,
   "metadata": {},
   "outputs": [],
   "source": [
    "from tensorflow.contrib.tensorboard.plugins import projector\n",
    "\n",
    "with tf.Session() as session:\n",
    "    # Create summary writer.\n",
    "    writer = tf.summary.FileWriter('/Users/Dipesh/OneDrive/Research_Engineer/Papers/M2EC/code/RecommendationSystem/tmp2', session.graph)\n",
    "    # Initialize embedding_var\n",
    "    session.run(embedding_var.initializer)\n",
    "    # Create Projector config\n",
    "    config = projector.ProjectorConfig()\n",
    "    # Add embedding visualizer\n",
    "    embedding = config.embeddings.add()\n",
    "    # Attach the name 'embedding'\n",
    "    embedding.tensor_name = embedding_var.name\n",
    "    # Metafile which is described later\n",
    "    embedding.metadata_path = '/Users/Dipesh/OneDrive/Research_Engineer/Papers/M2EC/code/RecommendationSystem/tmp2/metadata.tsv'\n",
    "    # Add writer and config to Projector\n",
    "    projector.visualize_embeddings(writer, config)\n",
    "    # Save the model\n",
    "    saver_embed = tf.train.Saver([embedding_var])\n",
    "    saver_embed.save(session, '/Users/Dipesh/OneDrive/Research_Engineer/Papers/M2EC/code/RecommendationSystem/tmp2/embedding_test.ckpt', 1)\n",
    "\n",
    "writer.close()"
   ]
  },
  {
   "cell_type": "code",
   "execution_count": null,
   "metadata": {},
   "outputs": [],
   "source": []
  }
 ],
 "metadata": {
  "kernelspec": {
   "display_name": "Python 3",
   "language": "python",
   "name": "python3"
  },
  "language_info": {
   "codemirror_mode": {
    "name": "ipython",
    "version": 3
   },
   "file_extension": ".py",
   "mimetype": "text/x-python",
   "name": "python",
   "nbconvert_exporter": "python",
   "pygments_lexer": "ipython3",
   "version": "3.6.7"
  }
 },
 "nbformat": 4,
 "nbformat_minor": 2
}
