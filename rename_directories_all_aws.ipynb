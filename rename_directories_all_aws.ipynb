{
 "cells": [
  {
   "cell_type": "code",
   "execution_count": 5,
   "metadata": {},
   "outputs": [],
   "source": [
    "import os\n",
    "\n",
    "path = \"/Users/Dipesh/OneDrive/Research_Engineer/Papers/M2EC/results/aws_all/\""
   ]
  },
  {
   "cell_type": "code",
   "execution_count": 6,
   "metadata": {},
   "outputs": [
    {
     "name": "stdout",
     "output_type": "stream",
     "text": [
      "['.DS_Store', '0', '1', '10', '11', '12', '13', '14', '2', '3', '4', '5', '6', '7', '8', '9']\n",
      "/Users/Dipesh/OneDrive/Research_Engineer/Papers/M2EC/results/aws_all/\n"
     ]
    }
   ],
   "source": [
    "print(os.listdir(path))\n",
    "aa = os.listdir(path)\n",
    "print(path)"
   ]
  },
  {
   "cell_type": "code",
   "execution_count": 7,
   "metadata": {},
   "outputs": [
    {
     "name": "stdout",
     "output_type": "stream",
     "text": [
      "/Users/Dipesh/OneDrive/Research_Engineer/Papers/M2EC/results/aws_all/aws_central\n",
      "/Users/Dipesh/OneDrive/Research_Engineer/Papers/M2EC/results/aws_all/aws_frankfurt\n",
      "/Users/Dipesh/OneDrive/Research_Engineer/Papers/M2EC/results/aws_all/aws_saopaulo\n",
      "/Users/Dipesh/OneDrive/Research_Engineer/Papers/M2EC/results/aws_all/aws_seoul\n",
      "/Users/Dipesh/OneDrive/Research_Engineer/Papers/M2EC/results/aws_all/aws_singapore\n",
      "/Users/Dipesh/OneDrive/Research_Engineer/Papers/M2EC/results/aws_all/aws_sydney\n",
      "/Users/Dipesh/OneDrive/Research_Engineer/Papers/M2EC/results/aws_all/aws_tokyo\n",
      "/Users/Dipesh/OneDrive/Research_Engineer/Papers/M2EC/results/aws_all/aws_ireland\n",
      "/Users/Dipesh/OneDrive/Research_Engineer/Papers/M2EC/results/aws_all/aws_london\n",
      "/Users/Dipesh/OneDrive/Research_Engineer/Papers/M2EC/results/aws_all/aws_mumbai\n",
      "/Users/Dipesh/OneDrive/Research_Engineer/Papers/M2EC/results/aws_all/aws_northcalifornia\n",
      "/Users/Dipesh/OneDrive/Research_Engineer/Papers/M2EC/results/aws_all/aws_northvirginia\n",
      "/Users/Dipesh/OneDrive/Research_Engineer/Papers/M2EC/results/aws_all/aws_ohio\n",
      "/Users/Dipesh/OneDrive/Research_Engineer/Papers/M2EC/results/aws_all/aws_oregon\n",
      "/Users/Dipesh/OneDrive/Research_Engineer/Papers/M2EC/results/aws_all/aws_paris\n"
     ]
    }
   ],
   "source": [
    "for dir in os.listdir(path):\n",
    "    newName = ''\n",
    "    if '.' in dir:\n",
    "        continue\n",
    "    #newname = path.replace('14.txt', 'google_tokyo_aws')\n",
    "    if '14' in dir:\n",
    "        newName = dir.replace ('14', 'aws_tokyo')\n",
    "    elif '13' in dir:\n",
    "        newName = dir.replace ('13', 'aws_sydney')\n",
    "    elif '12' in dir:\n",
    "        newName = dir.replace ('12', 'aws_singapore')\n",
    "    elif '11' in dir:\n",
    "        newName = dir.replace ('11', 'aws_seoul')\n",
    "    elif '10' in dir:\n",
    "        newName = dir.replace ('10', 'aws_saopaulo')\n",
    "    elif '9' in dir:\n",
    "        newName = dir.replace ('9', 'aws_paris')\n",
    "    elif '8' in dir:\n",
    "        newName = dir.replace ('8', 'aws_oregon')\n",
    "    elif '7' in dir:\n",
    "        newName = dir.replace ('7', 'aws_ohio')\n",
    "    elif '6' in dir:\n",
    "        newName = dir.replace ('6', 'aws_northvirginia')\n",
    "    elif '5' in dir:\n",
    "        newName = dir.replace ('5', 'aws_northcalifornia')\n",
    "    elif '4' in dir:\n",
    "        newName = dir.replace ('4', 'aws_mumbai')\n",
    "    elif '3' in dir:\n",
    "        newName = dir.replace ('3', 'aws_london')\n",
    "    elif '2' in dir:\n",
    "        newName = dir.replace ('2', 'aws_ireland')\n",
    "    elif '1' in dir:\n",
    "        newName = dir.replace ('1', 'aws_frankfurt')\n",
    "    elif '0' in dir:\n",
    "        newName = dir.replace ('0', 'aws_central')\n",
    "    print (os.path.join(path, newName))\n",
    "    os.rename(os.path.join(path, dir), os.path.join(path, newName))"
   ]
  },
  {
   "cell_type": "code",
   "execution_count": null,
   "metadata": {},
   "outputs": [],
   "source": []
  }
 ],
 "metadata": {
  "kernelspec": {
   "display_name": "Python 3",
   "language": "python",
   "name": "python3"
  },
  "language_info": {
   "codemirror_mode": {
    "name": "ipython",
    "version": 3
   },
   "file_extension": ".py",
   "mimetype": "text/x-python",
   "name": "python",
   "nbconvert_exporter": "python",
   "pygments_lexer": "ipython3",
   "version": "3.6.7"
  }
 },
 "nbformat": 4,
 "nbformat_minor": 2
}
