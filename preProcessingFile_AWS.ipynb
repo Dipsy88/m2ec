{
 "cells": [
  {
   "cell_type": "code",
   "execution_count": 609,
   "metadata": {},
   "outputs": [],
   "source": [
    "import pandas as pd\n",
    "import numpy as np\n",
    "import sys\n",
    "# variable declaration\n",
    "location = \"/Users/Dipesh/OneDrive/Research_Engineer/Papers/M2EC/results/aws/\"\n",
    "\n",
    "bandwidth = []\n",
    "latency = []\n",
    "# store the maximum and minimum bandwidth and latency\n",
    "min_bd =  sys.maxsize\n",
    "max_bd = -sys.maxsize\n",
    "min_lat = sys.maxsize\n",
    "max_lat = -sys.maxsize"
   ]
  },
  {
   "cell_type": "code",
   "execution_count": 610,
   "metadata": {},
   "outputs": [],
   "source": [
    "# preprocessing file with average weights\n",
    "for i in range (15):\n",
    "    for j in range(15):\n",
    "        if j is i:\n",
    "            # bandwidth.append(0)\n",
    "            # latency.append(0)\n",
    "            continue\n",
    "\n",
    "        # for bandwidth\n",
    "        df = pd.read_csv(location+\"%s/bandwidth_%s%s.txt\"%(i,j,i), sep='\\s+', skiprows=3, nrows=100, header=None)\n",
    "        \n",
    "        headers = [\"0\", \"1\", \"time\",\"time_unit\",\"transfer\",\"transfer_unit\", \"bitrate\", \"bitrate_unit\", \"retr\", \"cwnd\", \"cwnd_unit\"]\n",
    "        df.columns = headers\n",
    "        df.drop(['0', '1', 'time', 'time_unit','transfer', 'transfer_unit','cwnd', 'cwnd_unit', 'retr'], axis=1, inplace= True)\n",
    "        val = df[\"bitrate\"].mean()\n",
    "        \n",
    "        bandwidth.append(val)\n",
    "        if df[\"bitrate\"].max()>max_bd:\n",
    "            max_bd = df[\"bitrate\"].max()\n",
    "        if df[\"bitrate\"].min()<min_bd:\n",
    "            min_bd = df[\"bitrate\"].min()    \n",
    "    \n",
    "        # for latency\n",
    "        df_lat = pd.read_csv(location+\"%s/latency_%s%s.txt\"%(i,j,i), sep='\\s+', skiprows=1, nrows=100, header=None)\n",
    "\n",
    "        headers_lat = [\"0\", \"1\", \"2\", \"3\", \"4\", \"5\", \"latency\", \"unit\"]\n",
    "        df_lat.columns = headers_lat\n",
    "        df_lat.drop(['0', '1', '2', '3','4', '5'], axis=1, inplace= True)        \n",
    "        df_lat[\"latency\"] = df_lat[\"latency\"].map(lambda x:x.replace(\"time=\",\"\"))\n",
    "        df_lat[\"latency\"] = df_lat[\"latency\"].astype('float')\n",
    "        #print(df_lat[\"latency\"].max())\n",
    "        val_lat = df_lat[\"latency\"].mean()\n",
    "\n",
    "        latency.append(val_lat)\n",
    "        if df_lat[\"latency\"].max()>max_lat:\n",
    "            max_lat = df_lat[\"latency\"].max()\n",
    "        if df_lat[\"latency\"].min()>min_lat:\n",
    "            min_lat = df_lat[\"latency\"].min()\n",
    "# print(bandwidth)"
   ]
  },
  {
   "cell_type": "code",
   "execution_count": 611,
   "metadata": {
    "scrolled": true
   },
   "outputs": [],
   "source": [
    "bd=np.array(bandwidth)\n",
    "#print(bd)\n",
    "#bd.reshape(-1,15)\n",
    "\n",
    "#normalize the values\n",
    "min_bd = bd.min()\n",
    "max_bd = bd.max()\n",
    "\n",
    "#print(min_bd)\n",
    "#print(max_bd)\n",
    "bd = (bd-min_bd)/(max_bd-min_bd)"
   ]
  },
  {
   "cell_type": "code",
   "execution_count": 612,
   "metadata": {},
   "outputs": [],
   "source": [
    "lat=np.array(latency)\n",
    "\n",
    "#bd.reshape(-1,15)\n",
    "#normalize the values\n",
    "min_lat = lat.min()\n",
    "max_lat = lat.max()\n",
    "lat = 1-(lat-min_lat)/(max_lat-min_lat)"
   ]
  },
  {
   "cell_type": "code",
   "execution_count": 613,
   "metadata": {},
   "outputs": [
    {
     "name": "stdout",
     "output_type": "stream",
     "text": [
      "(15, 14)\n"
     ]
    }
   ],
   "source": [
    "combined = (bd+lat)/2\n",
    "combined = combined.reshape(-1,14)\n",
    "np.savetxt(\"foo.txt\",combined, delimiter=\"\\t\")\n",
    "print(combined.shape)"
   ]
  },
  {
   "cell_type": "code",
   "execution_count": 608,
   "metadata": {},
   "outputs": [
    {
     "data": {
      "text/plain": [
       "array([0.43399708, 0.43875149, 0.41097916, 0.46646355, 0.31812851,\n",
       "       0.41614675, 0.45542963, 0.43483175, 0.4109568 , 0.4386691 ,\n",
       "       0.20708593, 0.31782457, 0.32176972, 0.24526608, 0.35068167])"
      ]
     },
     "execution_count": 608,
     "metadata": {},
     "output_type": "execute_result"
    }
   ],
   "source": [
    "combined.mean(axis=1)"
   ]
  },
  {
   "cell_type": "code",
   "execution_count": null,
   "metadata": {},
   "outputs": [],
   "source": []
  },
  {
   "cell_type": "code",
   "execution_count": null,
   "metadata": {},
   "outputs": [],
   "source": []
  },
  {
   "cell_type": "code",
   "execution_count": null,
   "metadata": {},
   "outputs": [],
   "source": []
  }
 ],
 "metadata": {
  "kernelspec": {
   "display_name": "Python 3",
   "language": "python",
   "name": "python3"
  },
  "language_info": {
   "codemirror_mode": {
    "name": "ipython",
    "version": 3
   },
   "file_extension": ".py",
   "mimetype": "text/x-python",
   "name": "python",
   "nbconvert_exporter": "python",
   "pygments_lexer": "ipython3",
   "version": "3.6.7"
  }
 },
 "nbformat": 4,
 "nbformat_minor": 2
}
